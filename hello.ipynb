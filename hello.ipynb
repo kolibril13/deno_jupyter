{
 "cells": [
  {
   "cell_type": "code",
   "execution_count": 1,
   "metadata": {},
   "outputs": [
    {
     "data": {},
     "execution_count": 1,
     "metadata": {},
     "output_type": "execute_result"
    },
    {
     "name": "stdout",
     "output_type": "stream",
     "text": [
      "Hello from Deno 1.37.1\n"
     ]
    }
   ],
   "source": [
    "console.log(\"Hello from Deno\", Deno.version.deno);"
   ]
  },
  {
   "cell_type": "code",
   "execution_count": 2,
   "metadata": {},
   "outputs": [
    {
     "data": {},
     "execution_count": 2,
     "metadata": {},
     "output_type": "execute_result"
    }
   ],
   "source": [
    "import { display } from \"https://deno.land/x/display@v0.0.6/mod.ts\";\n",
    "import { createCanvas } from \"https://deno.land/x/skia_canvas@0.5.4/mod.ts\";\n"
   ]
  },
  {
   "cell_type": "code",
   "execution_count": 3,
   "metadata": {},
   "outputs": [
    {
     "data": {
      "image/png": "[encoded data removed]"
     },
     "execution_count": 3,
     "metadata": {},
     "output_type": "execute_result"
    }
   ],
   "source": [
    "// Initialize canvas and context\n",
    "const canvas = createCanvas(180, 180);\n",
    "const ctx = canvas.getContext(\"2d\");\n",
    "\n",
    "// Define a pastel color palette\n",
    "const pastelColors = [\"#FFB6C1\", \"#FFD700\", \"#98FB98\", \"#ADD8E6\"];\n",
    "\n",
    "// Draw rectangles\n",
    "for (let i = 0; i < pastelColors.length; i++) {\n",
    "  ctx.fillStyle = pastelColors[i];\n",
    "  ctx.fillRect(10 + i * 40, 10 + i * 40, 30, 30);\n",
    "}\n",
    "\n",
    "// Display the canvas\n",
    "display(canvas);"
   ]
  },
  {
   "cell_type": "code",
   "execution_count": null,
   "metadata": {},
   "outputs": [],
   "source": []
  }
 ],
 "metadata": {
  "kernelspec": {
   "display_name": "Deno",
   "language": "typescript",
   "name": "deno"
  },
  "language_info": {
   "file_extension": ".ts",
   "mimetype": "text/x.typescript",
   "name": "typescript",
   "nb_converter": "script",
   "pygments_lexer": "typescript",
   "version": "5.2.2"
  },
  "orig_nbformat": 4
 },
 "nbformat": 4,
 "nbformat_minor": 2
}
